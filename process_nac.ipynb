{
 "cells": [
  {
   "cell_type": "code",
   "execution_count": null,
   "metadata": {},
   "outputs": [],
   "source": [
    "import pandas as pd\n",
    "import numpy as np\n",
    "import re"
   ]
  },
  {
   "cell_type": "code",
   "execution_count": 3,
   "metadata": {},
   "outputs": [
    {
     "name": "stderr",
     "output_type": "stream",
     "text": [
      "C:\\ProgramData\\Anaconda3\\lib\\site-packages\\IPython\\core\\interactiveshell.py:3058: DtypeWarning: Columns (8,9,10,14,15,16,18,19,20,23,24,25,26,54,55,56,57,58,59,60,61,62,63,64) have mixed types.Specify dtype option on import or set low_memory=False.\n",
      "  interactivity=interactivity, compiler=compiler, result=result)\n"
     ]
    }
   ],
   "source": [
    "tot=pd.DataFrame()\n",
    "for i in range(1999,2009):\n",
    "    filename='data/nac/Natalidad '+ str(i)+'_p.csv'\n",
    "    nac=pd.DataFrame()\n",
    "    if i==2008:\n",
    "        nac['month']=pd.read_csv(filename, sep=';')['fecparto'].str[:3].replace(['dic', 'ene', 'feb', 'mar', 'abr', 'may', 'jun', 'jul', 'ago',\n",
    "       'sep', 'oct', 'nov'], [12] + list(range(1,12)))\n",
    "        nac['year']=pd.read_csv(filename, sep=';')['fecparto'].str[4:]\n",
    "    else:\n",
    "        nac['month']=pd.read_csv(filename, sep=';')['fecparto'].str[:2].astype(int)\n",
    "        nac['year']=pd.read_csv(filename, sep=';')['fecparto'].str[3:].astype(int)\n",
    "    nac['sexo']=pd.read_csv(filename, sep=';')['sexo']\n",
    "    tot=tot.append(nac)"
   ]
  },
  {
   "cell_type": "code",
   "execution_count": 4,
   "metadata": {},
   "outputs": [],
   "source": [
    "tot.to_csv('data/nac_uy.csv')"
   ]
  }
 ],
 "metadata": {
  "kernelspec": {
   "display_name": "Python 3",
   "language": "python",
   "name": "python3"
  },
  "language_info": {
   "codemirror_mode": {
    "name": "ipython",
    "version": 3
   },
   "file_extension": ".py",
   "mimetype": "text/x-python",
   "name": "python",
   "nbconvert_exporter": "python",
   "pygments_lexer": "ipython3",
   "version": "3.7.4"
  }
 },
 "nbformat": 4,
 "nbformat_minor": 2
}
