{
 "cells": [
  {
   "cell_type": "code",
   "execution_count": 2,
   "metadata": {},
   "outputs": [],
   "source": [
    "from selenium import webdriver\n",
    "from bs4 import BeautifulSoup\n",
    "import requests\n",
    "import pandas as pd\n",
    "from selenium.webdriver.common.by import By\n",
    "import numpy as np\n",
    "import re\n",
    "from selenium.common.exceptions import TimeoutException\n",
    "import time"
   ]
  },
  {
   "cell_type": "code",
   "execution_count": 3,
   "metadata": {},
   "outputs": [],
   "source": [
    "def get_categories(link):\n",
    "    result = None\n",
    "\n",
    "    while result is None:\n",
    "        try:\n",
    "            driver = webdriver.Chrome(executable_path='chromedriver.exe')\n",
    "            driver.get(link)\n",
    "            content = driver.page_source\n",
    "            soup = BeautifulSoup(content)\n",
    "            gui=soup.find_all(class_=\"swiper-wrapper tabs-items\")\n",
    "            if len(gui)!=0:\n",
    "                li=re.findall(',([\\w+ ]*)', gui[0].text.replace('\\n', ',') )[:-1]\n",
    "                ids = [tag['onclick'] for tag in gui[0].select('div[id]')]\n",
    "                tags = [j.split(\"(\",1)[1].split(\",\",1)[0].split(\"'\")[1] for j in ids]\n",
    "            \n",
    "            else:\n",
    "                li=[]\n",
    "                tags=[]\n",
    "            result=1\n",
    "            driver.quit()\n",
    "        except:\n",
    "            time.sleep(10)\n",
    "            driver.quit()\n",
    "            pass\n",
    "    return li, tags, soup\n"
   ]
  },
  {
   "cell_type": "code",
   "execution_count": 4,
   "metadata": {
    "scrolled": false
   },
   "outputs": [],
   "source": [
    "def get_births(link, tex, tag, lol):\n",
    "    common_data = [lol,link]\n",
    "    df=pd.DataFrame(columns=['name', 'position', 'dob1', 'matches', 'minutes', 'goals', 'dob2', 'link', 'category'])\n",
    "    soup = tex\n",
    "    #match = soup.find('div', {'id': tag})\n",
    "    string='plantel_'+str(tag[4:])\n",
    "    match2 = soup.find('div', {'id': string})\n",
    "    gui=match2.find_all(class_=\"row justify-content-between align-items-center\")\n",
    "    for j in range(0, len(gui)):\n",
    "        data=gui[j].text.replace('\\n', ',').replace('\\t', ',').split(',')\n",
    "        if len(list(filter(None, data)))==7:\n",
    "            df.loc[len(df)] = list(filter(None, data)) + common_data\n",
    "        else:\n",
    "            df.loc[len(df)] =  [list(filter(None, data))[0]] + [''] + list(filter(None, data))[1:] + common_data\n",
    "    result = 1\n",
    "    return df"
   ]
  },
  {
   "cell_type": "code",
   "execution_count": 5,
   "metadata": {},
   "outputs": [],
   "source": [
    "dictio={\"Nacional\": 81,\n",
    "\"River Plate\": 4463,\n",
    "\"D. Maldonado\":240,\n",
    "\"Danubio\": 284,\n",
    "\"Liverpool\": 205,\n",
    "\"Def. Sporting\": 190,\n",
    "\"Peñarol\": 139,\n",
    "\"Cerro Largo\": 92,\n",
    "\"Boston River\": 20,\n",
    "\"Fénix\": 25,\n",
    "\"Albion\": 150,\n",
    "\"Wanderers\": 231,\n",
    "\"Plaza Colonia\": 137,\n",
    "\"M.C. Torque\": 105,\n",
    "\"Rentistas\": 156,\n",
    "\"Cerrito\": 59,\n",
    "\"Racing\": 4471,\n",
    "\"Uruguay Montevideo\": 280,\n",
    "\"Cerro\": 226,\n",
    "\"La Luz\": 79,\n",
    "\"Miramar Misiones\": 91,\n",
    "\"Sud América\": 127,\n",
    "\"Atenas de San Carlos\": 187,\n",
    "\"Rampla Juniors\": 4462,\n",
    "\"Villa Española\": 65,\n",
    "\"Progreso\": 89,\n",
    "\"Juventud\": 202,\n",
    "\"Central Español\": 265,\n",
    "\"Nacional (F)\": 273,\n",
    "\"Peñarol (F)\": 68,\n",
    "\"Defensor Sporting (F)\": 236,\n",
    "\"Wanderers (F)\": 243,\n",
    "\"Liverpool (F)\": 61,\n",
    "\"Fénix (F)\": 72,\n",
    "\"River Plate (F)\": 229,\n",
    "\"Náutico (F)\": 304,\n",
    "\"Atenas (F)\": 73,\n",
    "\"M.C. Torque (F)\": 4694,\n",
    "\"Danubio  (F)\": 174,\n",
    "\"S.J. Rentistas (F)\": 99,\n",
    "\"Boston River (F)\": 256,\n",
    "\"Racing (F)\": 83,\n",
    "\"Canadian (F)\": 222,\n",
    "\"Juventud (F)\": 122,\n",
    "\"Rampla Juniors (F)\": 257,\n",
    "\"Plaza Colonia (F)\": 307\n",
    "}\n"
   ]
  },
  {
   "cell_type": "code",
   "execution_count": 9,
   "metadata": {
    "scrolled": false
   },
   "outputs": [
    {
     "name": "stderr",
     "output_type": "stream",
     "text": [
      "C:\\Users\\guill\\AppData\\Roaming\\Python\\Python37\\site-packages\\ipykernel_launcher.py:6: DeprecationWarning: executable_path has been deprecated, please pass in a Service object\n",
      "  \n"
     ]
    },
    {
     "name": "stdout",
     "output_type": "stream",
     "text": [
      "Last Team is  Wanderers . The number of players is:  2548\n",
      "Last Team is  Plaza Colonia . The number of players is:  4955\n",
      "Last Team is  M.C. Torque . The number of players is:  6779\n",
      "Last Team is  Rentistas . The number of players is:  9309\n",
      "Last Team is  Cerrito . The number of players is:  11347\n",
      "Last Team is  Racing . The number of players is:  13805\n",
      "Last Team is  Uruguay Montevideo . The number of players is:  14319\n",
      "Last Team is  Cerro . The number of players is:  16756\n",
      "Last Team is  La Luz . The number of players is:  17925\n",
      "Last Team is  Miramar Misiones . The number of players is:  20095\n",
      "Last Team is  Sud América . The number of players is:  22294\n",
      "Last Team is  Atenas de San Carlos . The number of players is:  24375\n",
      "Last Team is  Rampla Juniors . The number of players is:  26602\n",
      "Last Team is  Villa Española . The number of players is:  28370\n",
      "Last Team is  Progreso . The number of players is:  30348\n",
      "Last Team is  Juventud . The number of players is:  32844\n",
      "Last Team is  Central Español . The number of players is:  34896\n",
      "Last Team is  Nacional (F) . The number of players is:  35556\n",
      "Last Team is  Peñarol (F) . The number of players is:  36248\n",
      "Last Team is  Defensor Sporting (F) . The number of players is:  36573\n",
      "Last Team is  Wanderers (F) . The number of players is:  37194\n",
      "Last Team is  Liverpool (F) . The number of players is:  37837\n",
      "Last Team is  Fénix (F) . The number of players is:  38180\n",
      "Last Team is  River Plate (F) . The number of players is:  38832\n",
      "Last Team is  Náutico (F) . The number of players is:  39262\n",
      "Last Team is  Atenas (F) . The number of players is:  39697\n",
      "Last Team is  M.C. Torque (F) . The number of players is:  39844\n",
      "Last Team is  Danubio  (F) . The number of players is:  40419\n",
      "Last Team is  S.J. Rentistas (F) . The number of players is:  40865\n",
      "Last Team is  Boston River (F) . The number of players is:  41300\n",
      "Last Team is  Racing (F) . The number of players is:  41649\n",
      "Last Team is  Canadian (F) . The number of players is:  42039\n",
      "Last Team is  Juventud (F) . The number of players is:  42578\n",
      "Last Team is  Rampla Juniors (F) . The number of players is:  42934\n",
      "Last Team is  Plaza Colonia (F) . The number of players is:  43177\n"
     ]
    }
   ],
   "source": [
    "df2=pd.DataFrame()\n",
    "for j in list(dictio):\n",
    "    link1='https://www.auf.org.uy/historico-planteles/'+str(dictio[j])+'/0/'\n",
    "    di=get_links(link1)\n",
    "    linklist=['/historico-planteles/'+str(dictio[j])+'/0/']\n",
    "    for z in range(0,len(di)):\n",
    "        for a in di[z]('a', href=True):\n",
    "            linklist=linklist+[a['href']]\n",
    "    for n in linklist:\n",
    "        link1='https://www.auf.org.uy'+n\n",
    "        lez,per,tex = get_categories(link1)\n",
    "        if (len(lez)!=0) & (len(per)!=0):\n",
    "            for t in per:\n",
    "                w=per.index(t)\n",
    "                rom=get_births(link1, tex,t,lez[w])\n",
    "                df2=df2.append(rom)\n",
    "    print('Last Team is ', j, '. The number of players is: ', len(df2))"
   ]
  },
  {
   "cell_type": "code",
   "execution_count": null,
   "metadata": {},
   "outputs": [],
   "source": [
    "df2.to_csv('data/final_auf.csv)"
   ]
  }
 ],
 "metadata": {
  "kernelspec": {
   "display_name": "Python 3",
   "language": "python",
   "name": "python3"
  },
  "language_info": {
   "codemirror_mode": {
    "name": "ipython",
    "version": 3
   },
   "file_extension": ".py",
   "mimetype": "text/x-python",
   "name": "python",
   "nbconvert_exporter": "python",
   "pygments_lexer": "ipython3",
   "version": "3.7.4"
  }
 },
 "nbformat": 4,
 "nbformat_minor": 2
}
