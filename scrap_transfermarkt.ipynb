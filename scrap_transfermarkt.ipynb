{
 "cells": [
  {
   "cell_type": "code",
   "execution_count": null,
   "metadata": {},
   "outputs": [],
   "source": [
    "from selenium import webdriver\n",
    "from bs4 import BeautifulSoup\n",
    "import requests\n",
    "import pandas as pd\n",
    "from selenium.webdriver.common.by import By\n",
    "import numpy as np\n",
    "import re\n",
    "import time"
   ]
  },
  {
   "cell_type": "code",
   "execution_count": 2,
   "metadata": {},
   "outputs": [],
   "source": [
    "lista=[\"https://www.transfermarkt.es/detailsuche/spielerdetail/suche/38292887\",\n",
    "          \"https://www.transfermarkt.es/detailsuche/spielerdetail/suche/38292896\",\n",
    "          \"https://www.transfermarkt.es/detailsuche/spielerdetail/suche/38292904\",\n",
    "        \"https://www.transfermarkt.es/detailsuche/spielerdetail/suche/38292921\",\n",
    "          \"https://www.transfermarkt.es/detailsuche/spielerdetail/suche/38292935\",\n",
    "\"https://www.transfermarkt.es/detailsuche/spielerdetail/suche/38292954\"]\n",
    "# 160+154+140+113+78+72"
   ]
  },
  {
   "cell_type": "code",
   "execution_count": 11,
   "metadata": {},
   "outputs": [],
   "source": [
    "def extract_births_page(link):\n",
    "    driver = webdriver.Chrome(executable_path='chromedriver.exe')\n",
    "    driver.get(link)\n",
    "    content = driver.page_source\n",
    "    soup = BeautifulSoup(content)\n",
    "    job_elements = soup.find_all(lambda tag:  tag.get('class') == ['zentriert'])\n",
    "    job_elements2 = soup.find_all(lambda tag:  tag.get('class') == ['hauptlink'])\n",
    "    job_elements3 = [job_elements2[j] for j in range(0,len(job_elements2)) if job_elements2[j].text!='Uruguay']\n",
    "    positions = [job_elements2[j].findParent().findParent()('tr')[-1] for j in range(0,len(job_elements2)) if job_elements2[j].text!='Uruguay'] \n",
    "    lista4=[job_elements2[j].text for j in range(0,len(job_elements2)) if job_elements2[j].text!= 'Uruguay']\n",
    "    lista2=[job_elements[5*x+1] for x in range(1,int(np.floor(len(job_elements)/5)))]\n",
    "    players=pd.DataFrame({'names': lista4, 'dob': lista2, 'positon': positions})\n",
    "    driver.close()\n",
    "    return players, soup\n",
    "    \n",
    "def extract_all(links):\n",
    "    final=pd.DataFrame()\n",
    "    link1=links\n",
    "    p, texto=extract_births_page(link1)\n",
    "    final = final.append(p)\n",
    "    pages = texto.find_all(lambda tag:  tag.get('class') == [\"tm-pagination__list-item\"])\n",
    "    del texto\n",
    "    for i in range(2,len(pages)+2):\n",
    "        link2=link1+'/page/'+str(i)\n",
    "        p, texto=extract_births_page(link2)\n",
    "        del texto\n",
    "        final = final.append(p)\n",
    "    return final\n",
    "\n",
    "def extract_list(links2):\n",
    "    df3=pd.DataFrame()\n",
    "    for i in links2:\n",
    "        df2=extract_all(i)\n",
    "        df3=df3.append(df2)\n",
    "    return df3"
   ]
  },
  {
   "cell_type": "code",
   "execution_count": 12,
   "metadata": {
    "scrolled": false
   },
   "outputs": [
    {
     "name": "stderr",
     "output_type": "stream",
     "text": [
      "C:\\Users\\guill\\AppData\\Roaming\\Python\\Python37\\site-packages\\ipykernel_launcher.py:2: DeprecationWarning: executable_path has been deprecated, please pass in a Service object\n",
      "  \n"
     ]
    },
    {
     "name": "stdout",
     "output_type": "stream",
     "text": [
      "The length of df2 is:  162 . The length of df3 is:  162\n",
      "The length of df2 is:  154 . The length of df3 is:  316\n",
      "The length of df2 is:  148 . The length of df3 is:  464\n",
      "The length of df2 is:  126 . The length of df3 is:  590\n",
      "The length of df2 is:  109 . The length of df3 is:  699\n",
      "The length of df2 is:  128 . The length of df3 is:  827\n"
     ]
    }
   ],
   "source": [
    "df10=extract_list(lista)"
   ]
  },
  {
   "cell_type": "code",
   "execution_count": 14,
   "metadata": {},
   "outputs": [],
   "source": [
    "df10['month']=df10['dob'].astype(str).str[25:27]\n",
    "df10['year']=df10['dob'].astype(str).str[30:32]"
   ]
  },
  {
   "cell_type": "code",
   "execution_count": 15,
   "metadata": {},
   "outputs": [
    {
     "data": {
      "text/html": [
       "<div>\n",
       "<style scoped>\n",
       "    .dataframe tbody tr th:only-of-type {\n",
       "        vertical-align: middle;\n",
       "    }\n",
       "\n",
       "    .dataframe tbody tr th {\n",
       "        vertical-align: top;\n",
       "    }\n",
       "\n",
       "    .dataframe thead th {\n",
       "        text-align: right;\n",
       "    }\n",
       "</style>\n",
       "<table border=\"1\" class=\"dataframe\">\n",
       "  <thead>\n",
       "    <tr style=\"text-align: right;\">\n",
       "      <th></th>\n",
       "      <th>names</th>\n",
       "      <th>dob</th>\n",
       "      <th>positon</th>\n",
       "      <th>year</th>\n",
       "    </tr>\n",
       "    <tr>\n",
       "      <th>month</th>\n",
       "      <th></th>\n",
       "      <th></th>\n",
       "      <th></th>\n",
       "      <th></th>\n",
       "    </tr>\n",
       "  </thead>\n",
       "  <tbody>\n",
       "    <tr>\n",
       "      <th>01</th>\n",
       "      <td>103</td>\n",
       "      <td>103</td>\n",
       "      <td>103</td>\n",
       "      <td>103</td>\n",
       "    </tr>\n",
       "    <tr>\n",
       "      <th>02</th>\n",
       "      <td>102</td>\n",
       "      <td>102</td>\n",
       "      <td>102</td>\n",
       "      <td>102</td>\n",
       "    </tr>\n",
       "    <tr>\n",
       "      <th>03</th>\n",
       "      <td>86</td>\n",
       "      <td>86</td>\n",
       "      <td>86</td>\n",
       "      <td>86</td>\n",
       "    </tr>\n",
       "    <tr>\n",
       "      <th>04</th>\n",
       "      <td>76</td>\n",
       "      <td>76</td>\n",
       "      <td>76</td>\n",
       "      <td>76</td>\n",
       "    </tr>\n",
       "    <tr>\n",
       "      <th>05</th>\n",
       "      <td>92</td>\n",
       "      <td>92</td>\n",
       "      <td>92</td>\n",
       "      <td>92</td>\n",
       "    </tr>\n",
       "    <tr>\n",
       "      <th>06</th>\n",
       "      <td>73</td>\n",
       "      <td>73</td>\n",
       "      <td>73</td>\n",
       "      <td>73</td>\n",
       "    </tr>\n",
       "    <tr>\n",
       "      <th>07</th>\n",
       "      <td>65</td>\n",
       "      <td>65</td>\n",
       "      <td>65</td>\n",
       "      <td>65</td>\n",
       "    </tr>\n",
       "    <tr>\n",
       "      <th>08</th>\n",
       "      <td>66</td>\n",
       "      <td>66</td>\n",
       "      <td>66</td>\n",
       "      <td>66</td>\n",
       "    </tr>\n",
       "    <tr>\n",
       "      <th>09</th>\n",
       "      <td>53</td>\n",
       "      <td>53</td>\n",
       "      <td>53</td>\n",
       "      <td>53</td>\n",
       "    </tr>\n",
       "    <tr>\n",
       "      <th>10</th>\n",
       "      <td>31</td>\n",
       "      <td>31</td>\n",
       "      <td>31</td>\n",
       "      <td>31</td>\n",
       "    </tr>\n",
       "    <tr>\n",
       "      <th>11</th>\n",
       "      <td>48</td>\n",
       "      <td>48</td>\n",
       "      <td>48</td>\n",
       "      <td>48</td>\n",
       "    </tr>\n",
       "    <tr>\n",
       "      <th>12</th>\n",
       "      <td>32</td>\n",
       "      <td>32</td>\n",
       "      <td>32</td>\n",
       "      <td>32</td>\n",
       "    </tr>\n",
       "  </tbody>\n",
       "</table>\n",
       "</div>"
      ],
      "text/plain": [
       "       names  dob  positon  year\n",
       "month                           \n",
       "01       103  103      103   103\n",
       "02       102  102      102   102\n",
       "03        86   86       86    86\n",
       "04        76   76       76    76\n",
       "05        92   92       92    92\n",
       "06        73   73       73    73\n",
       "07        65   65       65    65\n",
       "08        66   66       66    66\n",
       "09        53   53       53    53\n",
       "10        31   31       31    31\n",
       "11        48   48       48    48\n",
       "12        32   32       32    32"
      ]
     },
     "execution_count": 15,
     "metadata": {},
     "output_type": "execute_result"
    }
   ],
   "source": [
    "df10.groupby('month').count()"
   ]
  },
  {
   "cell_type": "code",
   "execution_count": 17,
   "metadata": {},
   "outputs": [],
   "source": [
    "df10.to_csv('data/final_tm_uy.csv')"
   ]
  }
 ],
 "metadata": {
  "kernelspec": {
   "display_name": "Python 3",
   "language": "python",
   "name": "python3"
  },
  "language_info": {
   "codemirror_mode": {
    "name": "ipython",
    "version": 3
   },
   "file_extension": ".py",
   "mimetype": "text/x-python",
   "name": "python",
   "nbconvert_exporter": "python",
   "pygments_lexer": "ipython3",
   "version": "3.7.4"
  }
 },
 "nbformat": 4,
 "nbformat_minor": 2
}
